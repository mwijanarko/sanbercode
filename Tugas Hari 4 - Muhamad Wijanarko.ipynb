{
  "cells": [
    {
      "cell_type": "markdown",
      "metadata": {
        "id": "a9HYUdCUsrKl"
      },
      "source": [
        "<h2>Soal 1: Comparison Operator</h2>\n",
        "\n",
        "- Berikan contoh comparison dari tipe data string\n",
        "- Berikan contoh comparison dari tipe data boolean\n",
        "- Berikan contoh comparison dari tipe data integer"
      ]
    },
    {
      "cell_type": "code",
      "execution_count": null,
      "metadata": {
        "id": "fUFkFOt0afUL"
      },
      "outputs": [],
      "source": [
        "# data string\n",
        "x = \"ayu\">\"rita\"\n",
        "print(x)\n",
        "\n",
        "# data boolean\n",
        "y1 = 1\n",
        "y2 = 2\n",
        "true_y = y1 > y2\n",
        "false_y = y1 < y2\n",
        "\n",
        "y3 = true_y > false_y\n",
        "print (y3)\n",
        "\n",
        "# data integer\n",
        "Z = 40>35\n",
        "print(Z)\n"
      ]
    },
    {
      "cell_type": "markdown",
      "metadata": {
        "id": "XeywALwwhZn7"
      },
      "source": [
        "\n",
        "\n",
        "---\n",
        "\n",
        "\n",
        "\n",
        "---\n",
        "\n"
      ]
    },
    {
      "cell_type": "markdown",
      "metadata": {
        "id": "IbNoZvVssrK5"
      },
      "source": [
        "<h2>Soal 2: Boolean Comparison</h2>\n",
        "\n",
        "- Berikan contoh gabungan multiple comparison menggunkan Boolean Comparisin 'and'\n",
        "- Berikan contoh gabungan multiple comparison menggunkan Boolean Comparisin 'or'\n",
        "- Berikan contoh gabungan multiple comparison menggunkan Boolean Comparisin 'not'"
      ]
    },
    {
      "cell_type": "code",
      "execution_count": null,
      "metadata": {
        "id": "M1mwGoegaiET"
      },
      "outputs": [
        {
          "name": "stdout",
          "output_type": "stream",
          "text": [
            "False\n",
            "True\n",
            "True\n"
          ]
        }
      ],
      "source": [
        "x = 10\n",
        "y = 20\n",
        "\n",
        "a = x > y #false\n",
        "b = x < y  #true\n",
        "\n",
        "comparison_and = a and b\n",
        "print(comparison_and)\n",
        "\n",
        "comparison_or = a or b\n",
        "print(comparison_or)\n",
        "\n",
        "comparison_not = not a\n",
        "print(comparison_not)"
      ]
    },
    {
      "cell_type": "markdown",
      "metadata": {
        "id": "Y3ejsyvqhciI"
      },
      "source": [
        "\n",
        "\n",
        "---\n",
        "\n",
        "\n",
        "\n",
        "---\n",
        "\n"
      ]
    },
    {
      "cell_type": "markdown",
      "metadata": {
        "id": "Yp_g_sPMsrLH"
      },
      "source": [
        "<h2>Soal 3: If-Else Statement</h2>\n",
        "\n",
        "Lengkapi kode untuk menghasilkan suatu output yang di harapkan\n",
        "\n",
        "- Bualah sebuah if-else statement yang dimana akan mem-print 'High' jika grade adalah 'A' dan price lebih dari 100000, kemudian mem-print 'Medium' jika grade adalah 'A' dan price lebih dari 50000 dan memprint 'low' jika grade adalah 'A' dan price lebih kecil dan sama dengan 50000."
      ]
    },
    {
      "cell_type": "code",
      "execution_count": null,
      "metadata": {
        "id": "2PPsaN50c9ew"
      },
      "outputs": [
        {
          "name": "stdout",
          "output_type": "stream",
          "text": [
            "medium\n"
          ]
        }
      ],
      "source": [
        "#code here\n",
        "\n",
        "price = 75000\n",
        "\n",
        "if price >= 100000:\n",
        "    print(\"high\")\n",
        "elif price >= 50000:\n",
        "    print(\"medium\")\n",
        "else:\n",
        "    print(\"low\")\n"
      ]
    },
    {
      "cell_type": "markdown",
      "metadata": {
        "id": "FkSxKlMNhfzn"
      },
      "source": [
        "\n",
        "\n",
        "---\n",
        "\n",
        "\n",
        "\n",
        "---\n",
        "\n"
      ]
    },
    {
      "cell_type": "markdown",
      "metadata": {
        "id": "IcoJXJT1srLW"
      },
      "source": [
        "<h2>Soal 4: Comparison Operator dengan fungsi</h2>\n",
        "\n",
        "Buatlah sebuah fungsi yang menerima satu argument bertipe data numeric dan menghasilkan sebuah return sebagai berikut :\n",
        "- menghasilkan return 'Aneh' jika nilai dari argument tersebut adalah bilangan ganjil\n",
        "- menghasilkan return 'Tidak Aneh' jika nilai dari argument tersebut adalah bilangan genap dan diantara nilai 2 sampai 5 (2 dan 5 termasuk)\n",
        "- menghasilkan return 'Aneh' jika nilai dari argument tersebut adalah bilangan genap dan diantara nilai 6 sampai 20 (6 dan 20 termasuk)\n",
        "- menghasilkan return 'Tidak Aneh' jika nilai dari argument tersebut adalah bilangan genap dan lebih besari dari 20"
      ]
    },
    {
      "cell_type": "code",
      "execution_count": null,
      "metadata": {
        "id": "oGXGd_MhdH9D"
      },
      "outputs": [
        {
          "name": "stdout",
          "output_type": "stream",
          "text": [
            "tidak aneh\n"
          ]
        }
      ],
      "source": [
        "# Buat fungsi\n",
        "nilai = 98\n",
        "\n",
        "if nilai %2==1:\n",
        "    print(\"aneh\")\n",
        "elif nilai %2==0 and nilai >= 2 and nilai <= 5:\n",
        "    print(\"tidak aneh\")\n",
        "elif nilai %2==0 and nilai>=6 and nilai<=20:\n",
        "    print(\"aneh\")\n",
        "elif nilai %2==0 and nilai >20:\n",
        "    print(\"tidak aneh\")\n"
      ]
    },
    {
      "cell_type": "markdown",
      "metadata": {
        "id": "QxKrmLcchhvf"
      },
      "source": [
        "\n",
        "\n",
        "---\n",
        "\n",
        "\n",
        "\n",
        "---\n",
        "\n"
      ]
    },
    {
      "cell_type": "markdown",
      "metadata": {
        "id": "gf0D64xOsrLl"
      },
      "source": [
        "<h2>Soal 5: While Loop dan For Loop</h2>\n",
        "\n",
        "- Apa perbedaan while loop dan for loop?\n",
        "- Berikan contoh sederhana cara menggunakan while loop dan for loop"
      ]
    },
    {
      "cell_type": "markdown",
      "metadata": {
        "id": "cSrE7RbvdXWe"
      },
      "source": [
        "jawaban perbedaan\n",
        "\n",
        "While loop terus melakukan percobaan sampai selesai, loop hanya menggunakan data yang sudah ada. Loop juga tidak memperdulikan urutan syntax."
      ]
    },
    {
      "cell_type": "code",
      "execution_count": 6,
      "metadata": {
        "id": "RSf-gg-rdY35"
      },
      "outputs": [
        {
          "name": "stdout",
          "output_type": "stream",
          "text": [
            "BMRI\n",
            "BBRI\n",
            "TLKM\n",
            "BBTN\n",
            "BBNI\n",
            "PGAS\n",
            "0 2 4 6 8 10 12 14 16 18 "
          ]
        }
      ],
      "source": [
        "# jawaban contoh\n",
        "\n",
        "# For Loop\n",
        "saham_BUMN = [\"BMRI\",\"BBRI\",\"TLKM\",\"BBTN\",\"BBNI\",\"PGAS\"]\n",
        "for Saham in saham_BUMN:\n",
        "    print(Saham)\n",
        "\n",
        "# While Loop\n",
        "x = 0\n",
        "while x < 20:\n",
        "    print(x, end=' ')\n",
        "    x += 2"
      ]
    },
    {
      "cell_type": "markdown",
      "metadata": {
        "id": "xJq6aaArhlDN"
      },
      "source": [
        "\n",
        "\n",
        "---\n",
        "\n",
        "\n",
        "\n",
        "---\n",
        "\n"
      ]
    },
    {
      "cell_type": "markdown",
      "metadata": {
        "id": "fZQpBGCgsrLz"
      },
      "source": [
        "<h2>Soal 6: While Loop</h2>\n",
        "    \n",
        "Buatlah sebuah code while loop sebagai berikut :\n",
        "- Buatlah suatu fungsi yang menerima satu input nilai numerik\n",
        "- Dalam fungsi, Buat sebuah while-loop dengan melakukan comparasi terhadap inputan tersebut, dimana looping/iterasi terus berjalan apabila nilai inputan tidak sama dengan 0\n",
        "- Dalam setiap iterasi update nilai variable inputan itu, jika input lebih dari 0, maka kurangi variabel tersebut sebesar 1, selain itu tambahkan 1\n",
        "- print nilai variable input dalam setiap awal iterasi"
      ]
    },
    {
      "cell_type": "code",
      "execution_count": 6,
      "metadata": {},
      "outputs": [
        {
          "name": "stdout",
          "output_type": "stream",
          "text": [
            "10\n",
            "9\n",
            "8\n",
            "7\n",
            "6\n",
            "5\n",
            "4\n",
            "3\n",
            "2\n",
            "1\n"
          ]
        }
      ],
      "source": [
        "a = 10\n",
        "\n",
        "while a != 0:\n",
        "    if a > 0:\n",
        "        print(a)\n",
        "        a = a - 1\n",
        "    elif a < 0:\n",
        "        a = a + 1\n",
        "        print(a)"
      ]
    },
    {
      "cell_type": "markdown",
      "metadata": {
        "id": "lKzngRrlsrMD"
      },
      "source": [
        "Expected Output:\n",
        "\n",
        "jika a = 10                           \n",
        "\n",
        "10                                   \n",
        "9                      \n",
        "8   \n",
        "7   \n",
        "6  \n",
        "5  \n",
        "4  \n",
        "3  \n",
        "2  \n",
        "1\n",
        "\n",
        "jika a = -10\n",
        "\n",
        "-10                                   \n",
        "-9                        \n",
        "-8  \n",
        "-7  \n",
        "-6  \n",
        "-5  \n",
        "-4  \n",
        "-3  \n",
        "-2  \n",
        "-1\n"
      ]
    },
    {
      "cell_type": "markdown",
      "metadata": {
        "id": "MhdhusMnhn8L"
      },
      "source": [
        "\n",
        "\n",
        "---\n",
        "\n",
        "\n",
        "\n",
        "---\n",
        "\n"
      ]
    },
    {
      "cell_type": "markdown",
      "metadata": {
        "id": "DnAUJ4TzgmOp"
      },
      "source": [
        "<h2>Soal 7: For Loop</h2>\n",
        "\n",
        "Lengkapi kode untuk menghasilkan suatu output yang diharapkan:\n",
        "\n",
        "\n",
        "\n",
        "\n",
        "\n",
        "*   Cari siswa mana saja yang memiliki nilai lebih dari sama dengan 80. Masukkan kedalam sebuah list. print hasilnya\n",
        "\n",
        "\n",
        "\n",
        "\n"
      ]
    },
    {
      "cell_type": "code",
      "execution_count": null,
      "metadata": {
        "id": "aeuMIX8_hGCW"
      },
      "outputs": [],
      "source": [
        "data_siswa = [\n",
        "    {\n",
        "        \"nama\":\"Budi\",\n",
        "        \"nilai\": 90\n",
        "    },\n",
        "    {\n",
        "        \"nama\":\"Nina\",\n",
        "        \"nilai\": 78\n",
        "    },\n",
        "    {\n",
        "        \"nama\":\"Rudi\",\n",
        "        \"nilai\": 91\n",
        "    },\n",
        "    {\n",
        "        \"nama\":\"Olivia\",\n",
        "        \"nilai\": 76\n",
        "    },\n",
        "    {\n",
        "        \"nama\":\"Leo\",\n",
        "        \"nilai\": 80\n",
        "    },\n",
        "    {\n",
        "        \"nama\":\"Liam\",\n",
        "        \"nilai\": 67\n",
        "    },\n",
        "    {\n",
        "        \"nama\":\"Sheila\",\n",
        "        \"nilai\": 76\n",
        "    }\n",
        "]"
      ]
    },
    {
      "cell_type": "code",
      "execution_count": null,
      "metadata": {
        "id": "XlQsAeOchKLP"
      },
      "outputs": [],
      "source": [
        "#code here\n",
        "\n"
      ]
    },
    {
      "cell_type": "markdown",
      "metadata": {
        "id": "xIFJBG5PhL_5"
      },
      "source": [
        "Expected output:\n",
        "\n",
        "['Budi', 'Rudi', 'Leo']"
      ]
    },
    {
      "cell_type": "markdown",
      "metadata": {
        "id": "6qKCmZB0hqH9"
      },
      "source": [
        "\n",
        "\n",
        "---\n",
        "\n",
        "\n",
        "\n",
        "---\n",
        "\n"
      ]
    },
    {
      "cell_type": "markdown",
      "metadata": {
        "id": "IWg3Z_zZsrMG"
      },
      "source": [
        "<h2>Soal 8: For Loop Enumerate</h2>\n",
        "    \n",
        "Lengkapi kode untuk menghasilkan suatu output yang di harapkan:\n",
        "\n",
        "- Buatlah sebuah loop dengan mengiterasi sebuah objek list kemudian di kalikan dengan index dari list tersebut dan print hasilnya"
      ]
    },
    {
      "cell_type": "code",
      "execution_count": null,
      "metadata": {
        "id": "wvxcRiq2gYS9"
      },
      "outputs": [],
      "source": [
        "obj_list= [1, 16, 11, 10, 5]\n",
        "\n",
        "# lengkapi code di bawah"
      ]
    },
    {
      "cell_type": "markdown",
      "metadata": {
        "id": "OGawROjnsrMU"
      },
      "source": [
        "Expected Output:\n",
        "\n",
        "0\n",
        "\n",
        "16\n",
        "\n",
        "22\n",
        "\n",
        "30\n",
        "\n",
        "20\n"
      ]
    },
    {
      "cell_type": "markdown",
      "metadata": {
        "id": "BEaVi_Z5hror"
      },
      "source": [
        "\n",
        "\n",
        "---\n",
        "\n",
        "\n",
        "\n",
        "---\n",
        "\n"
      ]
    }
  ],
  "metadata": {
    "colab": {
      "collapsed_sections": [],
      "name": " Tugas Hari 4.ipynb",
      "provenance": []
    },
    "kernelspec": {
      "display_name": "Python 3",
      "language": "python",
      "name": "python3"
    },
    "language_info": {
      "codemirror_mode": {
        "name": "ipython",
        "version": 3
      },
      "file_extension": ".py",
      "mimetype": "text/x-python",
      "name": "python",
      "nbconvert_exporter": "python",
      "pygments_lexer": "ipython3",
      "version": "3.7.8"
    }
  },
  "nbformat": 4,
  "nbformat_minor": 0
}
